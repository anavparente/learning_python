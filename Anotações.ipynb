{
  "nbformat": 4,
  "nbformat_minor": 0,
  "metadata": {
    "colab": {
      "name": "Anotações",
      "provenance": [],
      "authorship_tag": "ABX9TyNEffGV4kd6LYSiNJ4De8qE",
      "include_colab_link": true
    },
    "kernelspec": {
      "name": "python3",
      "display_name": "Python 3"
    },
    "language_info": {
      "name": "python"
    }
  },
  "cells": [
    {
      "cell_type": "markdown",
      "metadata": {
        "id": "view-in-github",
        "colab_type": "text"
      },
      "source": [
        "<a href=\"https://colab.research.google.com/github/anavparente/learning_python/blob/main/Anota%C3%A7%C3%B5es.ipynb\" target=\"_parent\"><img src=\"https://colab.research.google.com/assets/colab-badge.svg\" alt=\"Open In Colab\"/></a>"
      ]
    },
    {
      "cell_type": "markdown",
      "source": [
        "# The zen of Python"
      ],
      "metadata": {
        "id": "2Vee4nZC_zXC"
      }
    },
    {
      "cell_type": "code",
      "execution_count": null,
      "metadata": {
        "id": "nMREbpHo_sht"
      },
      "outputs": [],
      "source": [
        "import this"
      ]
    },
    {
      "cell_type": "markdown",
      "source": [
        "# PEP 8  - Python Enhancement Proposals (Propostas de Melhoramento Python)\n",
        "\n"
      ],
      "metadata": {
        "id": "SF06lnpS5Zps"
      }
    },
    {
      "cell_type": "markdown",
      "source": [
        "1 - Utilize Camel Case para nomes de classes;\n",
        "- `class CalculadoraCientifica`\n",
        "\n",
        "2 - Utilize nomes em minúsculo, sepado por underline para funções ou variáveis;\n",
        "- def soma_dois \n",
        "- numero_impar\n",
        "\n",
        "3 - Utilize 4 espaços para identação! \n",
        "- `if 'a' in 'banana' :`\n",
        "    `print ('tem')`\n",
        "\n",
        "4 - Linhas em branco\n",
        "- Separar funções e definições de classe com duas linhas em branco;\n",
        "- Metodos dentro de uma classe devem ser separados com uma única linha em branco;\n",
        "\n",
        "5 - Imports\n",
        "\n",
        "- Imports devem ser sempre feitos em linhas separadas;\n",
        "`import sys`\n",
        "`import os`\n",
        "\n",
        "- Imports devem ser colocados no topo do arquivo, logo depois de quaisquer comentários ou docstrigs e antes de constantes ou variáveis globais.\n",
        "\n",
        "6 - Espaços em expressões e instruções\n",
        "\n",
        "7 - Termine sempre uma instrução com uma nova linha"
      ],
      "metadata": {
        "id": "o559xgyqAUi5"
      }
    },
    {
      "cell_type": "markdown",
      "source": [
        "# Utilitários Python para auxiliar na programação"
      ],
      "metadata": {
        "id": "F8KBNhs0ujqx"
      }
    },
    {
      "cell_type": "markdown",
      "source": [
        "Dir e Help\n",
        "\n",
        "dir -> Apresenta todos os atriutos/propiedades e funções/métodos disponíveis para determinado tipo de dado ou variável.\n",
        "\n",
        "- `dir(tipo de dado/variavel) `\n",
        "\n",
        "help -> Apresenta a documentação/ como utilizar os atributos/propriedades e funções/métodos disponíveis para determinado tipo de dado ou variável.\n",
        "\n",
        "- `help(tipo de dado/ variavel.propriedade) `"
      ],
      "metadata": {
        "id": "xsV-e-kPA4hq"
      }
    },
    {
      "cell_type": "code",
      "source": [
        "# Resumo de operadores \n",
        "\n",
        "dir()\n",
        "help()\n",
        ".lower\n",
        ".upper\n",
        ".title"
      ],
      "metadata": {
        "id": "_1dFw90WAm7Z"
      },
      "execution_count": null,
      "outputs": []
    },
    {
      "cell_type": "code",
      "source": [
        "# Exemplos\n",
        "\n",
        "dir('evg')\n",
        "help('EVG'.lower)\n",
        "help('evg'.upper)\n",
        "help('evg'.title)\n",
        "'EVG'.lower()\n",
        "'evg'.upper()\n",
        "'evg'.title()\n"
      ],
      "metadata": {
        "id": "O5RS3-DrBG2B"
      },
      "execution_count": null,
      "outputs": []
    },
    {
      "cell_type": "markdown",
      "source": [
        "# Recebendo dados do usuário\n",
        "\n"
      ],
      "metadata": {
        "id": "8k59uXz93_aY"
      }
    },
    {
      "cell_type": "markdown",
      "source": [
        "- Todo dado recebido via `input()` é do tipo String\n",
        "\n",
        "- Cast\n",
        "\n",
        "É a 'conversão' de um tipo de dado para outro."
      ],
      "metadata": {
        "id": "SBOdvQ45Bq-B"
      }
    },
    {
      "cell_type": "code",
      "source": [
        "# Resumo de operadores \n",
        "\n",
        "input()\n",
        "int(input())\n",
        "float(input())\n",
        "print(f'...{x}...')\n"
      ],
      "metadata": {
        "id": "WizIkSa6B6af"
      },
      "execution_count": null,
      "outputs": []
    },
    {
      "cell_type": "code",
      "source": [
        "# Exemplo\n",
        "\n",
        "nome = input(' Qual seu nome? ')\n",
        "print(f'Seja bem vindo(a) {nome}!')\n",
        "\n",
        "idade = input(' Qual sua idade? ')\n",
        "print(f'A  {nome}  tem  {idade}  anos.')\n",
        "\n",
        "print(f'E {nome} nasceu em {2022 - int(idade)}')   #cast => int"
      ],
      "metadata": {
        "id": "DXXtH9fzChA4"
      },
      "execution_count": null,
      "outputs": []
    },
    {
      "cell_type": "markdown",
      "source": [
        "# Tipos de variável"
      ],
      "metadata": {
        "id": "Fv_dEeymxdxR"
      }
    },
    {
      "cell_type": "markdown",
      "source": [
        "- Atribuir 'J' para números complexos.\n",
        "\n",
        "- Booleano = verdadeiro ou falso \n",
        "\n",
        "`True `  `False`  -  Sempre com a inicial maiuscula \n",
        "\n",
        "`not`  -  Negação \n",
        "\n",
        "`or` -  Ou \n",
        "\n",
        "Operação binaria, depende de dois fatores. Um ou outro deve ser verdadeiro.\n",
        "\n",
        "`and` -  E \n",
        "\n",
        "Operação binaria, depende de dois fatores. Ambos devem ser verdadeiros.\n",
        "\n",
        "`split() ` - Transforma em uma lista de strings"
      ],
      "metadata": {
        "id": "Zmf1rMutC6b2"
      }
    },
    {
      "cell_type": "markdown",
      "source": [
        " Escopo de variáveis\n",
        " \n",
        " - Variáveis globais: seu escopo compreende todo o programa.\n",
        "\n",
        " - Variáveis locais: são reconhecidas apenas no bloco onde foram declaradas.\n",
        "\n",
        "Python é uma linguagem de tiágem dinâmica. Isso significa que ao declararmos uma variável, não colocamos o tipo do dado dela. Este tipo é inferido ao atribuírmos um valor a mesma."
      ],
      "metadata": {
        "id": "k81sf8_IPQYQ"
      }
    },
    {
      "cell_type": "code",
      "source": [
        "# Resumo de operadores\n",
        "\n",
        "type()\n",
        "False\n",
        "True\n",
        "not\n",
        "or\n",
        "and\n",
        "split()\n",
        "slice  [::-1]\n",
        ".replace()"
      ],
      "metadata": {
        "id": "lazFLyqVDHS3"
      },
      "execution_count": null,
      "outputs": []
    },
    {
      "cell_type": "code",
      "source": [
        "# Exemplo N. Complexo \n",
        "\n",
        "print(type(2j))\n",
        "\n",
        "num = 5j\n",
        "re = num ** 2\n",
        "print(re)"
      ],
      "metadata": {
        "id": "rYy8yQv5DrIO"
      },
      "execution_count": null,
      "outputs": []
    },
    {
      "cell_type": "code",
      "source": [
        "# Exemplo Booleano\n",
        "\n",
        "ativo = False \n",
        "\n",
        "print(not ativo)\n"
      ],
      "metadata": {
        "id": "Aq7_o0-nEDOo"
      },
      "execution_count": null,
      "outputs": []
    },
    {
      "cell_type": "code",
      "source": [
        "True or False \n",
        "\n",
        "True and False"
      ],
      "metadata": {
        "id": "hawQRqgGEJ4O"
      },
      "execution_count": null,
      "outputs": []
    },
    {
      "cell_type": "code",
      "source": [
        "n1 = 2\n",
        "n2 = 6\n",
        "n3 = 18\n",
        "n1 < (n2 or n3) > 1"
      ],
      "metadata": {
        "id": "ANTkGUdHER1e"
      },
      "execution_count": null,
      "outputs": []
    },
    {
      "cell_type": "code",
      "source": [
        "#   Exemplo - Posição dos caracteres \n",
        "nome = \"Stars Horizon\"\n",
        "print(nome[0:5])\n",
        "print(nome[6:13])\n",
        "print(nome.split())\n",
        "print(nome.split()[0])\n",
        "print(nome.split()[1])\n",
        "print(nome[::-1])   #   Comece no primeiro elemento, vá até o ultimo e inverta.\n",
        "print(nome.replace('H', 'R'))\n",
        "texto = 'socorram me subino onibus em marrocos' #   Palíndromo\n",
        "print(texto[::-1])\n"
      ],
      "metadata": {
        "id": "J801pXwyFHRj"
      },
      "execution_count": null,
      "outputs": []
    },
    {
      "cell_type": "code",
      "source": [
        "# Exemplo - Escopo de variáveis\n",
        "\n",
        "nome = 0.02\n",
        "print(nome)\n",
        "print(type(nome))\n"
      ],
      "metadata": {
        "id": "09x-StiRHMBU"
      },
      "execution_count": null,
      "outputs": []
    },
    {
      "cell_type": "code",
      "source": [
        "numero = 9\n",
        "\n",
        "if numero > 10:\n",
        "    novo = numero - 10\n",
        "    print(novo)"
      ],
      "metadata": {
        "id": "6ABmGRQDHT7J"
      },
      "execution_count": null,
      "outputs": []
    },
    {
      "cell_type": "markdown",
      "source": [
        "# Estruturas lógicas e Condicionais \n",
        "\n"
      ],
      "metadata": {
        "id": "ZvAepnwoWk3y"
      }
    },
    {
      "cell_type": "markdown",
      "source": [
        "- if (se)\n",
        "\n",
        "- else (se não)\n",
        "\n",
        "- elif  (se não se)\n",
        "\n",
        "## Operadores binários\n",
        "\n",
        "- and (e) - ambos os valores precisam ser True.\n",
        "\n",
        "- or (ou) - um ou outro valor precisa ser True.\n",
        "\n",
        "- is (é) -o valor é comparado com um segundo.\n",
        "\n",
        "## Operadores Unários\n",
        "- not (não) - o valor booleano é invertido."
      ],
      "metadata": {
        "id": "cNH6xAIHIVyn"
      }
    },
    {
      "cell_type": "code",
      "source": [
        "# Resumo de operadores\n",
        "\n",
        "if\n",
        "else\n",
        "elif\n",
        "is\n",
        ".istitle()\n",
        ".upper()\n"
      ],
      "metadata": {
        "id": "w92BEopOHoep"
      },
      "execution_count": null,
      "outputs": []
    },
    {
      "cell_type": "code",
      "source": [
        "# Exemplo if\n",
        "\n",
        "print('Insira sua idade')\n",
        "\n",
        "idade = int(input())\n",
        "\n",
        "if idade < 18:\n",
        "    print('Menor de idade')\n",
        "if idade >= 18:\n",
        "    print('Maior de idade')\n",
        "    "
      ],
      "metadata": {
        "id": "d82ZA5P_HxFi"
      },
      "execution_count": null,
      "outputs": []
    },
    {
      "cell_type": "code",
      "source": [
        "# Exemple else\n",
        "\n",
        "print('Insira sua idade')\n",
        "\n",
        "idade = int(input())\n",
        "\n",
        "if idade < 18:\n",
        "    print('Menor de idade')\n",
        "else:\n",
        "    print('Maior de idade')\n",
        "    "
      ],
      "metadata": {
        "id": "L1R7Ixk7H3gi"
      },
      "execution_count": null,
      "outputs": []
    },
    {
      "cell_type": "code",
      "source": [
        "# Exemplo elif\n",
        "\n",
        "print('Insira sua idade')\n",
        "\n",
        "idade = int(input())\n",
        "\n",
        "if idade < 18:\n",
        "    print('Menor de idade')\n",
        "elif idade == 18:\n",
        "    print('Maior de idade')\n",
        "elif idade >= 65:\n",
        "    print('Idoso')\n",
        "else:\n",
        "    print('Maior de idade')\n",
        "    "
      ],
      "metadata": {
        "id": "lyX4HXTKH-xC"
      },
      "execution_count": null,
      "outputs": []
    },
    {
      "cell_type": "code",
      "source": [
        "# Exemplo not\n",
        "\n",
        "ativo = False\n",
        "logado = False\n",
        "\n",
        "if not ativo:\n",
        "    print('Você precisa ativar sua conta. Por favor cheque seu e-mail')\n",
        "else:\n",
        "    print('Bem-vindo usuário!')\n",
        "    "
      ],
      "metadata": {
        "id": "ctD2kjXYI3bo"
      },
      "execution_count": null,
      "outputs": []
    },
    {
      "cell_type": "code",
      "source": [
        "# Exemplo and\n",
        "\n",
        "ativo = False\n",
        "logado = True\n",
        "\n",
        "if ativo and logado:\n",
        "    print('Bem-vindo usuário!')\n",
        "else:\n",
        "    print('Você precisa ativar sua conta. Por favor cheque seu e-mail.')\n",
        "    "
      ],
      "metadata": {
        "id": "2P_1y_Q6I9f4"
      },
      "execution_count": null,
      "outputs": []
    },
    {
      "cell_type": "code",
      "source": [
        "# Exemplo or\n",
        "\n",
        "ativo = False\n",
        "logado = False\n",
        "\n",
        "if ativo or logado:\n",
        "    print('Bem-vindo usuário!')\n",
        "else:\n",
        "    print('Você precisa ativar sua conta. Por favor cheque seu e-mail.')\n",
        "    "
      ],
      "metadata": {
        "id": "oUIJnoYeJJYn"
      },
      "execution_count": null,
      "outputs": []
    },
    {
      "cell_type": "code",
      "source": [
        "# Exemplo is \n",
        "\n",
        "ativo = False\n",
        "logado = False\n",
        "\n",
        "if  ativo is False:\n",
        "    print('Você precisa ativar sua conta. Por favor cheque seu e-mail')\n",
        "else:\n",
        "    print('Bem-vindo usuário!')\n",
        "    "
      ],
      "metadata": {
        "id": "AsI3E0eQJQCg"
      },
      "execution_count": null,
      "outputs": []
    },
    {
      "cell_type": "code",
      "source": [
        "# Exemplo de resposta de booleano com operadores \n",
        "\n",
        "nome = \"Ana\"\n",
        "nome.istitle()\n",
        "\n",
        "nome = 'Ana'\n",
        "nome.upper()\n",
        "\n",
        "nome = 'Ana'\n",
        "nome.upper().isupper()\n"
      ],
      "metadata": {
        "id": "Kyomu5nOJkv6"
      },
      "execution_count": null,
      "outputs": []
    },
    {
      "cell_type": "markdown",
      "source": [
        "# Loop "
      ],
      "metadata": {
        "id": "E6c_2VqHy3DM"
      }
    },
    {
      "cell_type": "markdown",
      "source": [
        "- Loop - é uma estrutura de repetição \n",
        "- For - é uma dessas estruturas\n",
        "\n",
        "Utilizamos loops para iterar sobre sequências ou sobre valores iteráveis \n",
        "- Iteração é o processo chamado na programação de repetição de uma ou mais ações.\n",
        "\n",
        "\n",
        "Exemplos de iteráveis:\n",
        "\n",
        "String,  Lista,  Range\n",
        "\n",
        "OBS: Atenção para identação dos blocos, se não fechados corretamente acontecerão erros de repetição.\n"
      ],
      "metadata": {
        "id": "FHd56TuhKE4n"
      }
    },
    {
      "cell_type": "markdown",
      "source": [
        "## Range\n",
        "\n",
        "São utilizados para gerar seqências numéricas, não de forma aleatória, mas sim de maneira previamente especificada.\n",
        "\n",
        "- Início padrão em 0"
      ],
      "metadata": {
        "id": "KGFR6DAWOTp7"
      }
    },
    {
      "cell_type": "markdown",
      "source": [
        "## While\n",
        "\n",
        "O bloco será repetido enquanto a condição booleana for verdadeira."
      ],
      "metadata": {
        "id": "SX97XxV0OpSt"
      }
    },
    {
      "cell_type": "code",
      "source": [
        "# Resumo de operadores\n",
        "\n",
        "for\n",
        "in\n",
        "range()\n",
        "list\n",
        "while\n",
        "break\n",
        "enumerate()\n"
      ],
      "metadata": {
        "id": "5aKjVc2tKc6u"
      },
      "execution_count": null,
      "outputs": []
    },
    {
      "cell_type": "code",
      "source": [
        "# Exemplo for\n",
        "\n",
        "nome = 'Star Horizon'\n",
        "lista = [1,3,5,7,9]\n",
        "numeros = range(1,10)\n",
        "\n",
        "for letra in nome:\n",
        "    print(letra)\n",
        "for numero in lista:\n",
        "    print(numero)\n",
        "for numero in range(1,10):\n",
        "    print(numero)\n"
      ],
      "metadata": {
        "id": "yAuno3fGLQgd"
      },
      "execution_count": null,
      "outputs": []
    },
    {
      "cell_type": "code",
      "source": [
        "for i, letra in enumerate(nome):\n",
        "    print(nome[i])\n",
        " "
      ],
      "metadata": {
        "id": "tDEEZFt-LXGF"
      },
      "execution_count": null,
      "outputs": []
    },
    {
      "cell_type": "code",
      "source": [
        "for letra in enumerate(nome):\n",
        "    print(letra)\n"
      ],
      "metadata": {
        "id": "-L3vjpqSLYuN"
      },
      "execution_count": null,
      "outputs": []
    },
    {
      "cell_type": "code",
      "source": [
        "# _ - descarta um valor\n",
        "\n",
        "for _, letra in enumerate(nome):\n",
        "    print(letra)\n",
        "    "
      ],
      "metadata": {
        "id": "FuIjzs17Ljk1"
      },
      "execution_count": null,
      "outputs": []
    },
    {
      "cell_type": "code",
      "source": [
        "for letra in enumerate(nome):\n",
        "    print(nome)\n",
        "    "
      ],
      "metadata": {
        "id": "RygYhgpKLp7c"
      },
      "execution_count": null,
      "outputs": []
    },
    {
      "cell_type": "code",
      "source": [
        "qnt = int(input('Quantas vezes o loop deve rodar?'))\n",
        "\n",
        "for n in range(1, qnt+1):\n",
        "    print(f'Imprimindo {n}')\n",
        "    "
      ],
      "metadata": {
        "id": "d_9h8iNLLx3F"
      },
      "execution_count": null,
      "outputs": []
    },
    {
      "cell_type": "code",
      "source": [
        "# end='' - imprimir na mesma linha \n",
        "\n",
        "nome = 'star horizon'\n",
        "\n",
        "for letra in nome:\n",
        "    print(letra, end='')\n",
        "    "
      ],
      "metadata": {
        "id": "kdpJzag6LzRD"
      },
      "execution_count": null,
      "outputs": []
    },
    {
      "cell_type": "code",
      "source": [
        "# Exemplo de Concatenação de Strings\n",
        "\n",
        "nome = 'Stars'\n",
        "sobre = nome + ' Horizon'\n",
        "print(sobre)\n"
      ],
      "metadata": {
        "id": "3y-K7HtlMCeh"
      },
      "execution_count": null,
      "outputs": []
    },
    {
      "cell_type": "code",
      "source": [
        "nome = 'Stars '\n",
        "for num in range(1, 11):\n",
        "    print(f'{nome * num}')\n",
        "    "
      ],
      "metadata": {
        "id": "sdr8nfXIMTTa"
      },
      "execution_count": null,
      "outputs": []
    },
    {
      "cell_type": "code",
      "source": [
        "# Exemplo emoticons\n",
        "\n",
        "for num in range(1, 11):\n",
        "    print('\\U0001F60D' * num)\n"
      ],
      "metadata": {
        "id": "lzTiU_xHMUNB"
      },
      "execution_count": null,
      "outputs": []
    },
    {
      "cell_type": "code",
      "source": [
        "for _ in range(3):\n",
        "    for num in range(1, 11):\n",
        "        print('\\U0001F60D' * num)\n",
        "        "
      ],
      "metadata": {
        "id": "MQ6eZbkQMZdj"
      },
      "execution_count": null,
      "outputs": []
    },
    {
      "cell_type": "code",
      "source": [
        "# Exemplo Range\n",
        "\n",
        "for num in range(16):\n",
        "    print(num)"
      ],
      "metadata": {
        "id": "YcIwAIALOZ1r"
      },
      "execution_count": null,
      "outputs": []
    },
    {
      "cell_type": "code",
      "source": [
        "for num in range(5,16):\n",
        "    print(num)"
      ],
      "metadata": {
        "id": "Udjx8tFm8Ap7"
      },
      "execution_count": null,
      "outputs": []
    },
    {
      "cell_type": "code",
      "source": [
        "for num in range(5,65,2):\n",
        "    print(num)"
      ],
      "metadata": {
        "id": "a4tv__Nr-w9f"
      },
      "execution_count": null,
      "outputs": []
    },
    {
      "cell_type": "code",
      "source": [
        "for num in range(0,10,2):   #Ultimo número corresponde aos passos (saltos)\n",
        "    print(num)"
      ],
      "metadata": {
        "id": "66RUzS48BYHF"
      },
      "execution_count": null,
      "outputs": []
    },
    {
      "cell_type": "code",
      "source": [
        "for num in range(20,0,-1):\n",
        "    print(num)"
      ],
      "metadata": {
        "id": "bLJhNOq2DrOv"
      },
      "execution_count": null,
      "outputs": []
    },
    {
      "cell_type": "code",
      "source": [
        "lista = list(range(10))\n",
        "print(lista)"
      ],
      "metadata": {
        "id": "Qcj3BNSCElrO"
      },
      "execution_count": null,
      "outputs": []
    },
    {
      "cell_type": "code",
      "source": [
        "# Exemplo While\n",
        "\n",
        "num = int(input())\n",
        "\n",
        "while num <= 10:\n",
        "    print(num)\n",
        "    num = num + 1"
      ],
      "metadata": {
        "id": "7eht8tPfIc5C"
      },
      "execution_count": null,
      "outputs": []
    },
    {
      "cell_type": "code",
      "source": [
        "num = int(input())\n",
        "\n",
        "while num < 10:\n",
        "    num = num + 1\n",
        "    print(num)"
      ],
      "metadata": {
        "id": "hVP6GDdTJRo5"
      },
      "execution_count": null,
      "outputs": []
    },
    {
      "cell_type": "code",
      "source": [
        "num = 1  # Código infinito\n",
        "\n",
        "while num < 10:\n",
        "    print(num)"
      ],
      "metadata": {
        "id": "4nZISS8OK3tu"
      },
      "execution_count": null,
      "outputs": []
    },
    {
      "cell_type": "code",
      "source": [
        "resposta = ''\n",
        "\n",
        "while resposta != 'sim':\n",
        "    resposta = input('Já acabou Jessica?')"
      ],
      "metadata": {
        "id": "kdg8QJXzLhxY"
      },
      "execution_count": null,
      "outputs": []
    },
    {
      "cell_type": "code",
      "source": [
        "# Exemplo Break\n",
        "\n",
        "for num in range(1,20):\n",
        "    if num == 6:\n",
        "        break\n",
        "    else:\n",
        "        print(num)"
      ],
      "metadata": {
        "id": "2D7zg5sWPEQ6"
      },
      "execution_count": null,
      "outputs": []
    },
    {
      "cell_type": "code",
      "source": [
        "while True:\n",
        "    com = input(\"digite 'sair' para sair do loop:  \")\n",
        "    if com == 'sair':\n",
        "        break"
      ],
      "metadata": {
        "id": "H_cYN_gbP_SL"
      },
      "execution_count": null,
      "outputs": []
    },
    {
      "cell_type": "markdown",
      "source": [
        "# Coleções"
      ],
      "metadata": {
        "id": "HtFcWHPMGT6g"
      }
    },
    {
      "cell_type": "markdown",
      "source": [
        "## Listas\n",
        "\n",
        "Listas em python funcionam como vetores/matrizes (arrays) em outras linguagens, com a diferença de serem DINÂMICOS e também podermos colocarmos QUALQUER tipo de dados.\n",
        "\n",
        "Dinâmico - Não possue tamanho fixo; Ou seja, podemos criar a lista e simplesmente ir adicionando elementos.\n",
        "\n",
        "Qualquer tipo de dados - Não possuem tipo de dado fixo; Ou seja, podemos colocar qualquer tipo de dado.\n",
        "\n",
        "As listas em python são representadas por colchetes: [ ]\n",
        "\n",
        "Pode-se facilmente checar se determinado valor está na lista."
      ],
      "metadata": {
        "id": "QeEX9VadPfsF"
      }
    },
    {
      "cell_type": "markdown",
      "source": [
        "Copiando uma lista para outra **(Shallow Copy e Deep Copy)** \n",
        "\n",
        "- Deep Copy\n",
        "\n",
        "Veja que ao utilizar lista.copy() copia-se os dados da lista para uma nova lista, masfica-se totalmente independente, ou seja, modificando uma lista, não afeta a outra. Isso em Python é chamado de Deep Copy (cópia profunda).\n",
        "\n",
        "- Shalow Copy\n",
        "\n",
        "Veja que se foi utilizado uma copia via atribuição e copiamos os dados da lista para a nova lista, mas após realizar modificação em uma das listas, essa modificação se refletiu em ambas as listas. Isso em python é chamado de Shaloow Copy.\n",
        "\n"
      ],
      "metadata": {
        "id": "c9ungHMQhcwt"
      }
    },
    {
      "cell_type": "code",
      "source": [
        "# Resumo de operadores\n",
        "\n",
        "list()\n",
        ".sort()\n",
        ".reverse()\n",
        ".count()\n",
        ".append()\n",
        ".extend()\n",
        ".insert()\n",
        ".copy()\n",
        "len()\n",
        ".pop()\n",
        ".clear()\n",
        ".splity()\n",
        ".join()\n",
        ".reverse()\n",
        "max()\n",
        "min()\n",
        "sum()\n",
        "tuple\n",
        ".insert()\n"
      ],
      "metadata": {
        "id": "7IqkS6Y2PrY9"
      },
      "execution_count": null,
      "outputs": []
    },
    {
      "cell_type": "code",
      "source": [
        "# Exemplo list\n",
        "\n",
        "type([])\n"
      ],
      "metadata": {
        "id": "YnnFpt2EQ1eQ"
      },
      "execution_count": null,
      "outputs": []
    },
    {
      "cell_type": "code",
      "source": [
        "list('Star Horizon')\n"
      ],
      "metadata": {
        "id": "sICZtf27LStk"
      },
      "execution_count": null,
      "outputs": []
    },
    {
      "cell_type": "code",
      "source": [
        "lista1 = list(range(21))\n",
        "num = 56\n",
        "\n",
        "if num in lista1:\n",
        "    print(f'Encontrei o número {num}')\n",
        "else:\n",
        "    print(f'Número {num} não presente na lista')\n",
        "    "
      ],
      "metadata": {
        "id": "I1Z5mUh8LX88"
      },
      "execution_count": null,
      "outputs": []
    },
    {
      "cell_type": "code",
      "source": [
        "lista2 = list('Stars Horizon')\n",
        "let = 'a'\n",
        "\n",
        "if let in lista2:\n",
        "    print(f'{let} presente em lista2') \n",
        "else:\n",
        "    print(f'{let} não presente em lista2')\n",
        "    "
      ],
      "metadata": {
        "id": "EIVCiGALtZ5W"
      },
      "execution_count": null,
      "outputs": []
    },
    {
      "cell_type": "code",
      "source": [
        "dir(list)\n"
      ],
      "metadata": {
        "id": "RICB8T5Ku_2H"
      },
      "execution_count": null,
      "outputs": []
    },
    {
      "cell_type": "code",
      "source": [
        "# Exemplo sort - ordenar uma lista \n",
        "\n",
        "lista1 = [1, 85, 12, 16, 13, 18, 18, 161, 7, 156, 19]\n",
        "\n",
        "lista1.sort()\n",
        "print(lista1)\n"
      ],
      "metadata": {
        "id": "9jM2IvyhRhzr"
      },
      "execution_count": null,
      "outputs": []
    },
    {
      "cell_type": "code",
      "source": [
        "lista2 = list('Stars Horizon')\n",
        "\n",
        "lista2.sort()\n",
        "print(lista2)\n"
      ],
      "metadata": {
        "id": "xd4IMcwkwUYL"
      },
      "execution_count": null,
      "outputs": []
    },
    {
      "cell_type": "code",
      "source": [
        "# Exemplo reverse - inverter uma lista\n",
        "\n",
        "lista2.reverse()\n",
        "print(lista2)\n"
      ],
      "metadata": {
        "id": "as84HJoU9l2m"
      },
      "execution_count": null,
      "outputs": []
    },
    {
      "cell_type": "code",
      "source": [
        "# Exemplo slice - [::-1]\n",
        "\n",
        "print(lista2[::-1])\n"
      ],
      "metadata": {
        "id": "BDv805O9SAvF"
      },
      "execution_count": null,
      "outputs": []
    },
    {
      "cell_type": "code",
      "source": [
        "# Exemplo count \n",
        "\n",
        "print(lista1.count(18))\n",
        "print(lista2.count('r'))\n"
      ],
      "metadata": {
        "id": "fazSpv1nSI_d"
      },
      "execution_count": null,
      "outputs": []
    },
    {
      "cell_type": "code",
      "source": [
        "# Exemplo append - Adicionar elementos em listas só conseguimos adicionar um elemento por vez.\n",
        "\n",
        "print(lista1)\n",
        "lista1.append(25)\n",
        "print(lista1)\n"
      ],
      "metadata": {
        "id": "AGYnu_8ISYg3"
      },
      "execution_count": null,
      "outputs": []
    },
    {
      "cell_type": "code",
      "source": [
        "# Coloca a lista como elemento único (sublista)\n",
        "\n",
        "lista01 = [12, 3, 6, 9, 5, 8, 3, 4, 2, 32]\n",
        "lista01.append([0, 25, 26])\n",
        "print(lista01)\n",
        "\n",
        "if [0, 25, 26] in lista01:\n",
        "    print('Encontrei')\n",
        "else:\n",
        "    print('Não encontrado')\n"
      ],
      "metadata": {
        "id": "PJwgz2ZXTUNF"
      },
      "execution_count": null,
      "outputs": []
    },
    {
      "cell_type": "code",
      "source": [
        "# Exemplo extend - Adiciona cada elemento individualmente\n",
        "\n",
        "lista02 = [12, 3, 6, 9, 5, 8, 3, 4, 2, 32]\n",
        "lista02.extend([22, 44, 56])\n",
        "print(lista02)\n"
      ],
      "metadata": {
        "id": "uV6TP0p2TmHf"
      },
      "execution_count": null,
      "outputs": []
    },
    {
      "cell_type": "code",
      "source": [
        "listaa = list(range(11))\n",
        "print(listaa)\n",
        "\n",
        "listaa.extend([15, 16, 95])\n",
        "print(listaa)\n"
      ],
      "metadata": {
        "id": "r3HnNpQxTvfG"
      },
      "execution_count": null,
      "outputs": []
    },
    {
      "cell_type": "code",
      "source": [
        "# Exemplo insert - inserir um novo elemento na lista informando a posição do índice \n",
        "#   Isso não substitui o valor da posição. O mesmo será deslocado para a direita da lista.\n",
        "\n",
        "listaa.insert(3, 25)\n",
        "print(listaa)\n"
      ],
      "metadata": {
        "id": "u72icfiJT3aA"
      },
      "execution_count": null,
      "outputs": []
    },
    {
      "cell_type": "code",
      "source": [
        "# Exemplo - unir duas listas\n",
        "\n",
        "lista05 = [2, 5, 9, 6]\n",
        "listar = lista05 + lista02\n",
        "print(listar)\n",
        "listar.sort()\n",
        "print(listar)\n"
      ],
      "metadata": {
        "id": "-Ef10KK5URDC"
      },
      "execution_count": null,
      "outputs": []
    },
    {
      "cell_type": "code",
      "source": [
        "lista05.extend(lista02)\n",
        "print(lista05)\n"
      ],
      "metadata": {
        "id": "8fzs5FYZUY27"
      },
      "execution_count": null,
      "outputs": []
    },
    {
      "cell_type": "code",
      "source": [
        "# Exemplo copy\n",
        "\n",
        "lista7 = lista02.copy()\n",
        "lista7.sort()\n",
        "print(lista7)\n"
      ],
      "metadata": {
        "id": "4RhZQZ2MUdL9"
      },
      "execution_count": null,
      "outputs": []
    },
    {
      "cell_type": "code",
      "source": [
        "# Exemplo len - contar quantos elementos existem dentro da lista \n",
        "\n",
        "print(len(lista7))\n"
      ],
      "metadata": {
        "id": "0PC-TQe8V2rc"
      },
      "execution_count": null,
      "outputs": []
    },
    {
      "cell_type": "code",
      "source": [
        "# Exemplo pop - Podemos remover facilmente o ultimo elemento de uma lista\n",
        "#   não somente remove o último elemento, mas também o retorna\n",
        "\n",
        "print(lista7)\n",
        "lista7.pop()\n",
        "print(lista7)\n"
      ],
      "metadata": {
        "id": "GR2SjLzfV-h3"
      },
      "execution_count": null,
      "outputs": []
    },
    {
      "cell_type": "code",
      "source": [
        "# pop - Podemos remover um elemento pelo indice\n",
        "#   Os elementos á direita deste índice serão deslocados para a esquerda \n",
        "#     Se não houver elemento no índice informado, teremos o erro IndexError.\n",
        "\n",
        "print(lista7)\n",
        "lista7.pop(2)\n",
        "#print(lista7)\n",
        "\n"
      ],
      "metadata": {
        "id": "TCXL3yZgWNCf"
      },
      "execution_count": null,
      "outputs": []
    },
    {
      "cell_type": "code",
      "source": [
        "# Exemplo clear - remover todos os elementos (zerar a lista)\n",
        "\n",
        "lista9 = [256, 26, 259, 86, 98, 78]\n",
        "print(lista9)\n",
        "lista9.clear()\n",
        "print(lista9)\n"
      ],
      "metadata": {
        "id": "WNhySNNGWmfe"
      },
      "execution_count": null,
      "outputs": []
    },
    {
      "cell_type": "code",
      "source": [
        "# Exemplo - repetir elementos em uma lista\n",
        "\n",
        "nova = [1, 2, 3]\n",
        "print(nova)\n",
        "\n",
        "nova = nova * 4\n",
        "print(nova)\n"
      ],
      "metadata": {
        "id": "i60Ph_fbWy5r"
      },
      "execution_count": null,
      "outputs": []
    },
    {
      "cell_type": "code",
      "source": [
        "#  Exemplo split - converter uma string para uma lista \n",
        "#   Por padrão, o split separa os elementos da lista pelo espaço entre elas\n",
        "\n",
        "nome = 'Stars Horizon Gregory'\n",
        "print(nome)\n",
        "\n",
        "nome = nome.split()\n",
        "print(nome)\n"
      ],
      "metadata": {
        "id": "JLpI1gYPXCc-"
      },
      "execution_count": null,
      "outputs": []
    },
    {
      "cell_type": "code",
      "source": [
        "nome = 'Stars,Horizon,Gregory'\n",
        "print(nome)\n",
        "\n",
        "nome = nome.split(',')               # Especificando um separador diferente\n",
        "print(nome)\n"
      ],
      "metadata": {
        "id": "Uk54UVS2XaSL"
      },
      "execution_count": null,
      "outputs": []
    },
    {
      "cell_type": "code",
      "source": [
        "# Exemplo join - converte uma lista em uma string\n",
        "#   Pega a lista10, coloca espaço entre cada elemento e transforma em string \n",
        "\n",
        "lista10 = ['Stars', 'Horizon', 'Gregory']\n",
        "print(lista10)\n",
        "\n",
        "frase = ' '.join(lista10)\n",
        "print(frase)\n"
      ],
      "metadata": {
        "id": "EZwG2sKAXe6y"
      },
      "execution_count": null,
      "outputs": []
    },
    {
      "cell_type": "code",
      "source": [
        "lista10 = ['Stars', 'Horizon', 'Gregory']\n",
        "print(lista10)\n",
        "\n",
        "frase = '-'.join(lista10)           # Especificando um separador diferente\n",
        "print(frase)\n"
      ],
      "metadata": {
        "id": "Nx0g2r-CXwOy"
      },
      "execution_count": null,
      "outputs": []
    },
    {
      "cell_type": "code",
      "source": [
        "# Exemplo de iteração em listas \n",
        "\n",
        "listab = [1, 99, 4, 27, 15, 22, 3, 1, 44, 42, 27]\n",
        "\n",
        "for elemento in listab:\n",
        "    print(elemento)\n",
        "    "
      ],
      "metadata": {
        "id": "vstgLjsQYDRw"
      },
      "execution_count": null,
      "outputs": []
    },
    {
      "cell_type": "code",
      "source": [
        "for elemento in lista10:\n",
        "    print(elemento)\n",
        "    "
      ],
      "metadata": {
        "id": "7rfFTnlMYIKn"
      },
      "execution_count": null,
      "outputs": []
    },
    {
      "cell_type": "code",
      "source": [
        "soma = 0\n",
        "\n",
        "for elemento in listab:\n",
        "    soma = soma + elemento \n",
        "print(soma)\n"
      ],
      "metadata": {
        "id": "-y6N0_C_YKE9"
      },
      "execution_count": null,
      "outputs": []
    },
    {
      "cell_type": "code",
      "source": [
        "soma = ' '\n",
        "\n",
        "for elemento in lista10:\n",
        "    soma = soma + elemento \n",
        "print(soma)\n"
      ],
      "metadata": {
        "id": "LBEfI1nDYM3J"
      },
      "execution_count": null,
      "outputs": []
    },
    {
      "cell_type": "code",
      "source": [
        "carrinho = []\n",
        "produto = ''\n",
        "\n",
        "while produto != 'sair':\n",
        "    print(\"Adicione um produto na lista ou digite 'sair' para sair: \")\n",
        "    produto = input()\n",
        "    if produto != 'sair':\n",
        "        carrinho.append(produto)\n",
        "\n",
        "for produto in carrinho:\n",
        "    print(produto)\n",
        "    "
      ],
      "metadata": {
        "id": "THgNmw4XYWAF"
      },
      "execution_count": null,
      "outputs": []
    },
    {
      "cell_type": "code",
      "source": [
        "# Exemplo - Variáveis em listas\n",
        "\n",
        "num1 = 1\n",
        "num2 = 2\n",
        "num3 = 3\n",
        "num4 = 4\n",
        "num5 = 5\n",
        "\n",
        "numeros = [num1, num2, num3, num4, num5]\n",
        "print(numeros)\n"
      ],
      "metadata": {
        "id": "-EHFScKXYZm6"
      },
      "execution_count": null,
      "outputs": []
    },
    {
      "cell_type": "code",
      "source": [
        "# Fazendo acesso de forma indexada - (indexar - organizar em forma de índice)\n",
        "\n",
        "#           0         1        2        3\n",
        "cores = ['verde', 'amarelo', 'azul', 'branco']\n",
        "\n",
        "print(cores[0])\n",
        "print(cores[1])\n",
        "print(cores[2])\n",
        "print(cores[3])\n"
      ],
      "metadata": {
        "id": "pykmShK9YfpU"
      },
      "execution_count": null,
      "outputs": []
    },
    {
      "cell_type": "code",
      "source": [
        "# Fazer acesso aos elementos de forma indexada inversa\n",
        "\n",
        "#           0         1        2        3\n",
        "cores = ['verde', 'amarelo', 'azul', 'branco']\n",
        "\n",
        "print(cores[-1])\n",
        "print(cores[-2])\n",
        "print(cores[-3])\n",
        "print(cores[-4])\n"
      ],
      "metadata": {
        "id": "ct8fx6lNY2zu"
      },
      "execution_count": null,
      "outputs": []
    },
    {
      "cell_type": "code",
      "source": [
        "for cor in cores:\n",
        "    print(cor)"
      ],
      "metadata": {
        "id": "UrsL4HP_Y-dA"
      },
      "execution_count": null,
      "outputs": []
    },
    {
      "cell_type": "code",
      "source": [
        "indice = 0\n",
        "while indice < len(cores):\n",
        "    print(cores[indice])    #Imprimindo 'cores' na posição 'indice'\n",
        "    indice = indice + 1\n"
      ],
      "metadata": {
        "id": "Ny0oGlXFZFjL"
      },
      "execution_count": null,
      "outputs": []
    },
    {
      "cell_type": "code",
      "source": [
        "# Gerar índice em um for\n",
        "\n",
        "for indice, cor in enumerate(cores):  # Posição - Elemento correspondente\n",
        "    print(indice, cor)"
      ],
      "metadata": {
        "id": "9CdotR3qZNVI"
      },
      "execution_count": null,
      "outputs": []
    },
    {
      "cell_type": "code",
      "source": [
        "listay = ['bruna', 'kamilla', 'carol', 'debora', 'daiana']\n",
        "\n",
        "for pe, nome in enumerate(listay):\n",
        "    print(pe, nome)\n"
      ],
      "metadata": {
        "id": "m088sxAxZX2Y"
      },
      "execution_count": null,
      "outputs": []
    },
    {
      "cell_type": "code",
      "source": [
        "for nome in enumerate(listay):\n",
        "    print(listay)"
      ],
      "metadata": {
        "id": "fgTTiGb2Z0FG"
      },
      "execution_count": null,
      "outputs": []
    },
    {
      "cell_type": "code",
      "source": [
        "# Exemplo index - Encontrar o índice de um elemento na lista \n",
        "#   Quando se tem valores repetidos, retorna o índice do primeiro valor encontrado\n",
        "\n",
        "numeros = [1, 9, 3, 6, 8, 7, 4]\n",
        "\n",
        "print(numeros.index(6))\n",
        "print(numeros.index(7))\n"
      ],
      "metadata": {
        "id": "EFlPYDxRZ8-I"
      },
      "execution_count": null,
      "outputs": []
    },
    {
      "cell_type": "code",
      "source": [
        "# Pode-se fazer busca dentro de um range, ou seja, especificar qual índice começar\n",
        "\n",
        "numeros = [1, 9, 3, 6, 8, 7, 4, 6, 3, 9]\n",
        "\n",
        "print(numeros.index(6, 5)) # Buscando a partir do índice 5\n",
        "print(numeros.index(6, 0)) # Buscando a partir do índice 0\n",
        "print(numeros.index(9, 0)) # Buscando a partir do índice 0\n",
        "print(numeros.index(9, 6)) # Buscando a partir do índice 6\n"
      ],
      "metadata": {
        "id": "hCAJj1n0aWCf"
      },
      "execution_count": null,
      "outputs": []
    },
    {
      "cell_type": "code",
      "source": [
        "# Podemos fazer busca dentro de um range, inicio/fim\n",
        "\n",
        "print(numeros.index(6, 2, 6))"
      ],
      "metadata": {
        "id": "dwJLJZOhagar"
      },
      "execution_count": null,
      "outputs": []
    },
    {
      "cell_type": "code",
      "source": [
        "# slicing\n",
        "\n",
        "lista = [1, 2, 3, 4]\n",
        "\n",
        "print(lista[1::2])\n"
      ],
      "metadata": {
        "id": "iH1b-CiPatAt"
      },
      "execution_count": null,
      "outputs": []
    },
    {
      "cell_type": "code",
      "source": [
        "lista = [1, 2, 3, 4]\n",
        "\n",
        "print(lista[-3:])\n"
      ],
      "metadata": {
        "id": "s2MZc8Peaxnr"
      },
      "execution_count": null,
      "outputs": []
    },
    {
      "cell_type": "code",
      "source": [
        "lista = [1, 2, 3, 4]\n",
        "\n",
        "print(lista[:2])\n"
      ],
      "metadata": {
        "id": "rg6lOy_ea0O-"
      },
      "execution_count": null,
      "outputs": []
    },
    {
      "cell_type": "code",
      "source": [
        "# Invertendo valores em uma lista\n",
        "\n",
        "nomes = ['ana', 'joão']\n",
        "nomes[0], nomes[1] = nomes[1], nomes[0]\n",
        "\n",
        "print(nomes)\n"
      ],
      "metadata": {
        "id": "C54iFsCGa3yB"
      },
      "execution_count": null,
      "outputs": []
    },
    {
      "cell_type": "code",
      "source": [
        "nomes = ['ana', 'joão']\n",
        "nomes.reverse()\n",
        "\n",
        "print(nomes)\n"
      ],
      "metadata": {
        "id": "BOVPKMv2a-h4"
      },
      "execution_count": null,
      "outputs": []
    },
    {
      "cell_type": "code",
      "source": [
        "# Exemplo - Soma, Valor máximo, Valor mínimo, Tamanho\n",
        "\n",
        "lista = [1, 2, 3, 4, 5, 6]\n",
        "\n",
        "print(sum(lista))\n",
        "print(max(lista))\n",
        "print(min(lista))\n",
        "print(len(lista))\n"
      ],
      "metadata": {
        "id": "7Ma445NVbDaG"
      },
      "execution_count": null,
      "outputs": []
    },
    {
      "cell_type": "code",
      "source": [
        "# Exemplo tuple - Transformar lista em tupla\n",
        "\n",
        "lista = [1, 2, 3, 4, 5, 6]\n",
        "\n",
        "print(lista)\n",
        "print(type(lista))\n",
        "\n",
        "tupla = tuple(lista)\n",
        "print(tupla)\n",
        "print(type(tupla))\n"
      ],
      "metadata": {
        "id": "UiKM1T6lbO1F"
      },
      "execution_count": null,
      "outputs": []
    },
    {
      "cell_type": "code",
      "source": [
        "# Exemplo de desenpacotamento de listas\n",
        "\n",
        "lista = [1, 2, 3]\n",
        "\n",
        "num1, num2, num3 = lista\n",
        "\n",
        "print(num1)\n",
        "print(num2)\n",
        "print(num3)\n",
        "\n",
        "# Se tivermos um número diferente de elementos na lista ou variáveis \n",
        "# para receber os dados, teremos ValueError\n"
      ],
      "metadata": {
        "id": "k4u5GOtkbXA9"
      },
      "execution_count": null,
      "outputs": []
    },
    {
      "cell_type": "code",
      "source": [
        "# Exemplo Deep Copy\n",
        "\n",
        "lista = [1, 2, 3]\n",
        "print(lista)\n",
        "\n",
        "nova = lista.copy()\n",
        "print(nova)\n",
        "\n",
        "nova.append(4)\n",
        "print(lista)      \n",
        "print(nova) \n"
      ],
      "metadata": {
        "id": "OpNpcHDbbmzD"
      },
      "execution_count": null,
      "outputs": []
    },
    {
      "cell_type": "code",
      "source": [
        "# Exemplo Shalow Copy\n",
        "\n",
        "lista = [1, 2, 3]\n",
        "print(lista)\n",
        "\n",
        "nova = lista\n",
        "print(nova)\n",
        "\n",
        "nova.append(4)\n",
        "print(lista)\n",
        "print(nova)"
      ],
      "metadata": {
        "id": "U6ONHPjxfL84"
      },
      "execution_count": null,
      "outputs": []
    },
    {
      "cell_type": "markdown",
      "source": [
        "# wiiiii"
      ],
      "metadata": {
        "id": "ZwjF1UgUfPUK"
      }
    }
  ]
}